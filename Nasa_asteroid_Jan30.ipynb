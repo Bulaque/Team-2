{
 "cells": [
  {
   "cell_type": "code",
   "execution_count": 1,
   "id": "1f9c4407",
   "metadata": {},
   "outputs": [],
   "source": [
    "# dependencies and setup\n",
    "import matplotlib.pyplot as plt\n",
    "import pandas as pd\n",
    "import numpy as np\n",
    "import requests\n",
    "from scipy.stats import linregress\n",
    "import json\n",
    "import pprint\n",
    "from Config import nasa_key\n",
    "import datetime\n",
    "\n",
    "\n",
    "# import API key\n",
    "from Config import nasa_key"
   ]
  },
  {
   "cell_type": "code",
   "execution_count": 2,
   "id": "655f34a9",
   "metadata": {},
   "outputs": [
    {
     "name": "stdout",
     "output_type": "stream",
     "text": [
      "Error processing entry: list index out of range\n",
      "Error processing entry: list index out of range\n",
      "Error processing entry: list index out of range\n",
      "Error processing entry: list index out of range\n"
     ]
    }
   ],
   "source": [
    "####------------------------- New cell added by Nayoung -------------------------####\n",
    "## added a new nested for loop to read-in api data from different pages (page=0 to page=4)\n",
    "## to read-in api data for 1000, we just need to change pageList = nparange(50) later.\n",
    "## the new nested for-loop worked, but we had a key error ('name_limited').\n",
    "## it seems like the key 'name_limited' might not exist in some entries of the API response. \n",
    "## for the solution, we could add another if-else block to check if the key exists to avoid KeyError..\n",
    "## OR since we have already the unique \"id\" variable, we could just remove this variable ('name_limited')..? LOL\n",
    "## We can discuss this in class today?\n",
    "## lastly, i imported numpy module to use the arnage function. This code can be moved to the above cell in class..\n",
    "\n",
    "# Base URL\n",
    "api_endpoint = f\"https://api.nasa.gov/neo/rest/v1/neo/browse?api_key={nasa_key}\"\n",
    "\n",
    "resp = requests.get(api_endpoint)\n",
    "\n",
    "if resp.status_code ==200:\n",
    "    \n",
    "    pageList = np.arange(80)\n",
    "    \n",
    "    data_entries=[]\n",
    "    \n",
    "    for page in pageList:\n",
    "        \n",
    "        page_url = api_endpoint + f\"&page={page}\"\n",
    "        api_data = requests.get(page_url).json()\n",
    "        \n",
    "        \n",
    "        for entry in api_data['near_earth_objects']:\n",
    "            \n",
    "            try:\n",
    "            # create variable names and grab the data from the resp\n",
    "                resp_id = entry['id']\n",
    "                #resp_name_limited = entry['name_limited']\n",
    "                resp_is_potentially_hazardous_asteroid = entry['is_potentially_hazardous_asteroid']\n",
    "                resp_miss_distance = entry['close_approach_data'][0]['miss_distance']['miles']\n",
    "                resp_orbiting_body = entry['close_approach_data'][0]['orbiting_body']\n",
    "                resp_relative_velocity = entry['close_approach_data'][0]['relative_velocity']['miles_per_hour']\n",
    "                resp_close_approach_date= entry['close_approach_data'][0]['close_approach_date']\n",
    "                resp_estimated_diameter = entry['estimated_diameter']['miles']['estimated_diameter_max']\n",
    "            \n",
    "            \n",
    "            \n",
    "            # create a dataframe with keys and values\n",
    "                data_entries.append({'id':resp_id,\n",
    "                                 #'name': resp_name_limited,\n",
    "                                 'hazardous': resp_is_potentially_hazardous_asteroid,\n",
    "                                 'distance': resp_miss_distance,\n",
    "                                 'orbiting body': resp_orbiting_body,\n",
    "                                 'velocity': resp_relative_velocity,\n",
    "                                 'date': resp_close_approach_date,\n",
    "                                 'diameter': resp_estimated_diameter\n",
    "                                })\n",
    "            except Exception as e:\n",
    "                print(f\"Error processing entry: {e}\")\n",
    "                pass\n",
    "            \n",
    "        df = pd.DataFrame(data_entries)\n",
    "        \n",
    "else:\n",
    "    print(f\"Failed to fetch data. Status code: {resp.status_code}\")"
   ]
  },
  {
   "cell_type": "code",
   "execution_count": null,
   "id": "5345e18c",
   "metadata": {},
   "outputs": [],
   "source": [
    "####------------------------- New cell added by Nayoung -------------------------####\n",
    "## checking to see if api data from page=0 to page=4 are read or not, and worked!\n",
    "## however, there was an issue with the key error ('name_limited'), please see above.\n",
    "\n",
    "df.head(40)"
   ]
  },
  {
   "cell_type": "code",
   "execution_count": null,
   "id": "983d69a6",
   "metadata": {},
   "outputs": [],
   "source": [
    "df.to_csv('data.csv')"
   ]
  },
  {
   "cell_type": "code",
   "execution_count": null,
   "id": "bb535627",
   "metadata": {},
   "outputs": [],
   "source": [
    "data = pd.read_csv('data.csv')"
   ]
  },
  {
   "cell_type": "code",
   "execution_count": null,
   "id": "557d00a2",
   "metadata": {},
   "outputs": [],
   "source": [
    "data.info()"
   ]
  },
  {
   "cell_type": "code",
   "execution_count": null,
   "id": "2d67d2c3",
   "metadata": {},
   "outputs": [],
   "source": []
  }
 ],
 "metadata": {
  "kernelspec": {
   "display_name": "Python 3 (ipykernel)",
   "language": "python",
   "name": "python3"
  },
  "language_info": {
   "codemirror_mode": {
    "name": "ipython",
    "version": 3
   },
   "file_extension": ".py",
   "mimetype": "text/x-python",
   "name": "python",
   "nbconvert_exporter": "python",
   "pygments_lexer": "ipython3",
   "version": "3.9.13"
  }
 },
 "nbformat": 4,
 "nbformat_minor": 5
}
