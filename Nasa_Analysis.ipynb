{
 "cells": [
  {
   "cell_type": "code",
   "execution_count": null,
   "id": "656c71c9",
   "metadata": {},
   "outputs": [],
   "source": [
    "# Dependencies and setup\n",
    "import matplotlib.pyplot as plt\n",
    "import pandas as pd\n",
    "import numpy as np\n",
    "import requests\n",
    "from scipy.stats import linregress\n",
    "import json\n",
    "import pprint\n",
    "from Config import nasa_key\n",
    "import datetime\n",
    "\n",
    "# Import API key\n",
    "from Config import nasa_key"
   ]
  },
  {
   "cell_type": "code",
   "execution_count": null,
   "id": "0d58f6b7",
   "metadata": {},
   "outputs": [],
   "source": [
    "data = pd.read_csv('Data.csv')\n",
    "data.head()"
   ]
  }
 ],
 "metadata": {
  "kernelspec": {
   "display_name": "Python 3 (ipykernel)",
   "language": "python",
   "name": "python3"
  },
  "language_info": {
   "codemirror_mode": {
    "name": "ipython",
    "version": 3
   },
   "file_extension": ".py",
   "mimetype": "text/x-python",
   "name": "python",
   "nbconvert_exporter": "python",
   "pygments_lexer": "ipython3",
   "version": "3.10.13"
  }
 },
 "nbformat": 4,
 "nbformat_minor": 5
}
